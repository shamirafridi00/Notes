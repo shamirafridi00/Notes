{
 "cells": [
  {
   "cell_type": "markdown",
   "metadata": {},
   "source": [
    "# Digit Recognition with Logistic Regression"
   ]
  },
  {
   "cell_type": "code",
   "execution_count": 1,
   "metadata": {},
   "outputs": [],
   "source": [
    "%matplotlib inline\n",
    "from matplotlib import pyplot as plt\n",
    "\n",
    "from sklearn.datasets import load_digits\n",
    "digits = load_digits()"
   ]
  },
  {
   "cell_type": "markdown",
   "metadata": {},
   "source": [
    "#### Images of digits"
   ]
  },
  {
   "cell_type": "code",
   "execution_count": 2,
   "metadata": {},
   "outputs": [
    {
     "data": {
      "text/plain": [
       "array([[[ 0.,  0.,  5., ...,  1.,  0.,  0.],\n",
       "        [ 0.,  0., 13., ..., 15.,  5.,  0.],\n",
       "        [ 0.,  3., 15., ..., 11.,  8.,  0.],\n",
       "        ...,\n",
       "        [ 0.,  4., 11., ..., 12.,  7.,  0.],\n",
       "        [ 0.,  2., 14., ..., 12.,  0.,  0.],\n",
       "        [ 0.,  0.,  6., ...,  0.,  0.,  0.]],\n",
       "\n",
       "       [[ 0.,  0.,  0., ...,  5.,  0.,  0.],\n",
       "        [ 0.,  0.,  0., ...,  9.,  0.,  0.],\n",
       "        [ 0.,  0.,  3., ...,  6.,  0.,  0.],\n",
       "        ...,\n",
       "        [ 0.,  0.,  1., ...,  6.,  0.,  0.],\n",
       "        [ 0.,  0.,  1., ...,  6.,  0.,  0.],\n",
       "        [ 0.,  0.,  0., ..., 10.,  0.,  0.]],\n",
       "\n",
       "       [[ 0.,  0.,  0., ..., 12.,  0.,  0.],\n",
       "        [ 0.,  0.,  3., ..., 14.,  0.,  0.],\n",
       "        [ 0.,  0.,  8., ..., 16.,  0.,  0.],\n",
       "        ...,\n",
       "        [ 0.,  9., 16., ...,  0.,  0.,  0.],\n",
       "        [ 0.,  3., 13., ..., 11.,  5.,  0.],\n",
       "        [ 0.,  0.,  0., ..., 16.,  9.,  0.]],\n",
       "\n",
       "       ...,\n",
       "\n",
       "       [[ 0.,  0.,  1., ...,  1.,  0.,  0.],\n",
       "        [ 0.,  0., 13., ...,  2.,  1.,  0.],\n",
       "        [ 0.,  0., 16., ..., 16.,  5.,  0.],\n",
       "        ...,\n",
       "        [ 0.,  0., 16., ..., 15.,  0.,  0.],\n",
       "        [ 0.,  0., 15., ..., 16.,  0.,  0.],\n",
       "        [ 0.,  0.,  2., ...,  6.,  0.,  0.]],\n",
       "\n",
       "       [[ 0.,  0.,  2., ...,  0.,  0.,  0.],\n",
       "        [ 0.,  0., 14., ..., 15.,  1.,  0.],\n",
       "        [ 0.,  4., 16., ..., 16.,  7.,  0.],\n",
       "        ...,\n",
       "        [ 0.,  0.,  0., ..., 16.,  2.,  0.],\n",
       "        [ 0.,  0.,  4., ..., 16.,  2.,  0.],\n",
       "        [ 0.,  0.,  5., ..., 12.,  0.,  0.]],\n",
       "\n",
       "       [[ 0.,  0., 10., ...,  1.,  0.,  0.],\n",
       "        [ 0.,  2., 16., ...,  1.,  0.,  0.],\n",
       "        [ 0.,  0., 15., ..., 15.,  0.,  0.],\n",
       "        ...,\n",
       "        [ 0.,  4., 16., ..., 16.,  6.,  0.],\n",
       "        [ 0.,  8., 16., ..., 16.,  8.,  0.],\n",
       "        [ 0.,  1.,  8., ..., 12.,  1.,  0.]]])"
      ]
     },
     "execution_count": 2,
     "metadata": {},
     "output_type": "execute_result"
    }
   ],
   "source": [
    "digits.images"
   ]
  },
  {
   "cell_type": "markdown",
   "metadata": {},
   "source": [
    "#### Every image is a digit of 8/8 characters 2x2 matrix"
   ]
  },
  {
   "cell_type": "code",
   "execution_count": 3,
   "metadata": {},
   "outputs": [
    {
     "data": {
      "text/plain": [
       "array([[ 0.,  0.,  5., 13.,  9.,  1.,  0.,  0.],\n",
       "       [ 0.,  0., 13., 15., 10., 15.,  5.,  0.],\n",
       "       [ 0.,  3., 15.,  2.,  0., 11.,  8.,  0.],\n",
       "       [ 0.,  4., 12.,  0.,  0.,  8.,  8.,  0.],\n",
       "       [ 0.,  5.,  8.,  0.,  0.,  9.,  8.,  0.],\n",
       "       [ 0.,  4., 11.,  0.,  1., 12.,  7.,  0.],\n",
       "       [ 0.,  2., 14.,  5., 10., 12.,  0.,  0.],\n",
       "       [ 0.,  0.,  6., 13., 10.,  0.,  0.,  0.]])"
      ]
     },
     "execution_count": 3,
     "metadata": {},
     "output_type": "execute_result"
    }
   ],
   "source": [
    "digits.images[0]"
   ]
  },
  {
   "cell_type": "code",
   "execution_count": 4,
   "metadata": {},
   "outputs": [
    {
     "data": {
      "text/plain": [
       "<matplotlib.image.AxesImage at 0x29cca72e850>"
      ]
     },
     "execution_count": 4,
     "metadata": {},
     "output_type": "execute_result"
    },
    {
     "data": {
      "text/plain": [
       "<Figure size 432x288 with 0 Axes>"
      ]
     },
     "metadata": {},
     "output_type": "display_data"
    },
    {
     "data": {
      "image/png": "[encoded data removed]",
      "text/plain": [
       "<Figure size 288x288 with 1 Axes>"
      ]
     },
     "metadata": {
      "needs_background": "light"
     },
     "output_type": "display_data"
    }
   ],
   "source": [
    "plt.gray()\n",
    "plt.matshow(digits.images[0])"
   ]
  },
  {
   "cell_type": "code",
   "execution_count": 5,
   "metadata": {},
   "outputs": [
    {
     "data": {
      "text/plain": [
       "array([0, 1, 2, 3, 4])"
      ]
     },
     "execution_count": 5,
     "metadata": {},
     "output_type": "execute_result"
    }
   ],
   "source": [
    "digits.target[:5]"
   ]
  },
  {
   "cell_type": "code",
   "execution_count": 6,
   "metadata": {},
   "outputs": [],
   "source": [
    "from sklearn.linear_model import LogisticRegression\n",
    "model = LogisticRegression()"
   ]
  },
  {
   "cell_type": "code",
   "execution_count": 7,
   "metadata": {},
   "outputs": [],
   "source": [
    "from sklearn.model_selection import train_test_split\n",
    "X_train, X_test, Y_train, Y_test = train_test_split(digits.data,digits.target,test_size=0.2)"
   ]
  },
  {
   "cell_type": "code",
   "execution_count": 8,
   "metadata": {},
   "outputs": [
    {
     "data": {
      "text/plain": [
       "1437"
      ]
     },
     "execution_count": 8,
     "metadata": {},
     "output_type": "execute_result"
    }
   ],
   "source": [
    "len(X_train)"
   ]
  },
  {
   "cell_type": "code",
   "execution_count": 9,
   "metadata": {},
   "outputs": [
    {
     "data": {
      "text/plain": [
       "360"
      ]
     },
     "execution_count": 9,
     "metadata": {},
     "output_type": "execute_result"
    }
   ],
   "source": [
    "len(X_test)"
   ]
  },
  {
   "cell_type": "code",
   "execution_count": 10,
   "metadata": {},
   "outputs": [
    {
     "data": {
      "text/plain": [
       "1797"
      ]
     },
     "execution_count": 10,
     "metadata": {},
     "output_type": "execute_result"
    }
   ],
   "source": [
    "len(digits.data)"
   ]
  },
  {
   "cell_type": "code",
   "execution_count": 11,
   "metadata": {},
   "outputs": [
    {
     "name": "stderr",
     "output_type": "stream",
     "text": [
      "C:\\Softwares\\lib\\site-packages\\sklearn\\linear_model\\_logistic.py:762: ConvergenceWarning: lbfgs failed to converge (status=1):\n",
      "STOP: TOTAL NO. of ITERATIONS REACHED LIMIT.\n",
      "\n",
      "Increase the number of iterations (max_iter) or scale the data as shown in:\n",
      "    https://scikit-learn.org/stable/modules/preprocessing.html\n",
      "Please also refer to the documentation for alternative solver options:\n",
      "    https://scikit-learn.org/stable/modules/linear_model.html#logistic-regression\n",
      "  n_iter_i = _check_optimize_result(\n"
     ]
    },
    {
     "data": {
      "text/plain": [
       "LogisticRegression()"
      ]
     },
     "execution_count": 11,
     "metadata": {},
     "output_type": "execute_result"
    }
   ],
   "source": [
    "model.fit(X_train,Y_train)"
   ]
  },
  {
   "cell_type": "code",
   "execution_count": 12,
   "metadata": {},
   "outputs": [
    {
     "data": {
      "text/plain": [
       "array([3, 4, 3, 1, 3, 5, 2, 1, 6, 1, 8, 5, 4, 5, 5, 0, 6, 5, 8, 7, 2, 4,\n",
       "       0, 7, 4, 5, 5, 9, 4, 0, 6, 3, 0, 6, 3, 3, 5, 8, 0, 3, 9, 2, 1, 1,\n",
       "       5, 4, 0, 4, 2, 1, 4, 2, 3, 8, 0, 5, 7, 2, 3, 8, 9, 9, 1, 2, 9, 9,\n",
       "       1, 1, 1, 8, 3, 9, 0, 5, 8, 0, 3, 8, 7, 9, 9, 4, 5, 7, 9, 1, 0, 3,\n",
       "       8, 5, 9, 6, 3, 3, 8, 3, 6, 1, 7, 4, 9, 4, 9, 8, 0, 0, 5, 7, 2, 6,\n",
       "       7, 9, 7, 9, 9, 6, 8, 8, 8, 3, 7, 5, 7, 6, 1, 5, 0, 9, 3, 4, 3, 6,\n",
       "       2, 7, 5, 4, 0, 5, 3, 8, 8, 0, 9, 6, 2, 0, 1, 7, 0, 7, 5, 8, 2, 0,\n",
       "       9, 1, 7, 1, 6, 2, 4, 8, 9, 7, 5, 5, 1, 2, 2, 4, 0, 6, 5, 6, 0, 7,\n",
       "       4, 7, 1, 5, 6, 9, 3, 6, 7, 0, 5, 6, 0, 1, 4, 5, 9, 6, 4, 5, 9, 0,\n",
       "       6, 4, 1, 9, 4, 0, 4, 1, 3, 0, 8, 5, 1, 1, 5, 7, 7, 1, 4, 2, 2, 9,\n",
       "       4, 8, 8, 6, 3, 7, 8, 8, 5, 6, 6, 0, 8, 6, 2, 0, 1, 4, 6, 1, 1, 0,\n",
       "       3, 0, 1, 8, 1, 3, 1, 4, 3, 1, 0, 8, 9, 2, 9, 1, 2, 7, 2, 2, 5, 7,\n",
       "       4, 8, 7, 5, 1, 1, 1, 3, 7, 8, 9, 5, 4, 1, 3, 8, 4, 3, 6, 6, 8, 2,\n",
       "       6, 8, 1, 8, 9, 2, 1, 4, 6, 9, 1, 1, 7, 3, 4, 0, 6, 4, 1, 7, 0, 5,\n",
       "       1, 3, 8, 4, 5, 7, 7, 5, 6, 8, 5, 7, 7, 5, 4, 4, 4, 8, 0, 7, 5, 4,\n",
       "       1, 4, 7, 0, 5, 0, 1, 6, 9, 6, 9, 5, 2, 8, 7, 5, 2, 4, 2, 6, 4, 8,\n",
       "       9, 5, 1, 2, 9, 9, 6, 3])"
      ]
     },
     "execution_count": 12,
     "metadata": {},
     "output_type": "execute_result"
    }
   ],
   "source": [
    "model.predict(X_test)"
   ]
  },
  {
   "cell_type": "code",
   "execution_count": 13,
   "metadata": {},
   "outputs": [
    {
     "data": {
      "text/plain": [
       "array([3, 4, 3, 1, 3, 3, 2, 1, 6, 1, 8, 5, 4, 5, 5, 0, 6, 5, 8, 7, 2, 1,\n",
       "       0, 7, 4, 5, 5, 9, 4, 0, 6, 3, 0, 6, 3, 3, 5, 8, 0, 3, 9, 2, 1, 1,\n",
       "       5, 9, 0, 4, 2, 1, 4, 2, 3, 8, 0, 5, 7, 2, 3, 8, 9, 9, 1, 2, 9, 9,\n",
       "       1, 1, 1, 8, 3, 9, 0, 5, 9, 0, 3, 8, 7, 9, 9, 4, 3, 7, 9, 1, 0, 3,\n",
       "       9, 5, 9, 6, 3, 3, 1, 3, 6, 1, 7, 4, 9, 4, 9, 8, 0, 0, 5, 7, 2, 6,\n",
       "       7, 9, 7, 9, 9, 6, 8, 8, 8, 3, 7, 5, 7, 6, 1, 5, 0, 9, 3, 4, 3, 6,\n",
       "       2, 7, 5, 4, 0, 5, 3, 8, 8, 0, 9, 6, 2, 0, 1, 7, 0, 7, 5, 8, 2, 0,\n",
       "       9, 1, 7, 1, 6, 2, 4, 8, 9, 7, 5, 5, 1, 2, 2, 4, 0, 6, 5, 6, 0, 7,\n",
       "       4, 7, 1, 5, 6, 9, 3, 6, 7, 0, 5, 6, 0, 1, 4, 5, 9, 6, 4, 5, 9, 0,\n",
       "       6, 4, 1, 9, 4, 0, 4, 1, 3, 0, 8, 5, 1, 1, 8, 7, 7, 1, 4, 2, 2, 9,\n",
       "       4, 8, 8, 6, 3, 7, 8, 8, 5, 6, 6, 0, 9, 6, 2, 0, 1, 4, 6, 1, 1, 0,\n",
       "       3, 0, 1, 8, 1, 3, 1, 4, 3, 1, 0, 8, 9, 2, 9, 1, 2, 7, 2, 2, 5, 7,\n",
       "       4, 9, 7, 5, 1, 1, 4, 3, 7, 8, 9, 9, 4, 1, 3, 8, 4, 3, 6, 6, 8, 2,\n",
       "       6, 8, 1, 8, 9, 2, 1, 4, 6, 9, 1, 1, 5, 3, 4, 0, 6, 4, 1, 7, 0, 5,\n",
       "       1, 3, 8, 4, 5, 7, 7, 5, 6, 8, 5, 7, 7, 5, 4, 4, 4, 8, 0, 7, 5, 4,\n",
       "       1, 4, 7, 0, 5, 0, 1, 6, 7, 6, 9, 5, 2, 8, 7, 5, 2, 4, 2, 6, 4, 8,\n",
       "       9, 5, 8, 2, 9, 9, 6, 3])"
      ]
     },
     "execution_count": 13,
     "metadata": {},
     "output_type": "execute_result"
    }
   ],
   "source": [
    "Y_test"
   ]
  },
  {
   "cell_type": "code",
   "execution_count": 14,
   "metadata": {},
   "outputs": [
    {
     "data": {
      "text/plain": [
       "0.9583333333333334"
      ]
     },
     "execution_count": 14,
     "metadata": {},
     "output_type": "execute_result"
    }
   ],
   "source": [
    "model.score(X_test,Y_test)"
   ]
  },
  {
   "cell_type": "markdown",
   "metadata": {},
   "source": [
    "### Confusion Matrix"
   ]
  },
  {
   "cell_type": "code",
   "execution_count": 15,
   "metadata": {},
   "outputs": [],
   "source": [
    "Y_predicted = model.predict(X_test)"
   ]
  },
  {
   "cell_type": "code",
   "execution_count": 16,
   "metadata": {},
   "outputs": [
    {
     "data": {
      "text/plain": [
       "array([[35,  0,  0,  0,  0,  0,  0,  0,  0,  0],\n",
       "       [ 0, 43,  0,  0,  1,  0,  0,  0,  1,  0],\n",
       "       [ 0,  0, 27,  0,  0,  0,  0,  0,  0,  0],\n",
       "       [ 0,  0,  0, 31,  0,  2,  0,  0,  0,  0],\n",
       "       [ 0,  1,  0,  0, 37,  0,  0,  0,  0,  0],\n",
       "       [ 0,  0,  0,  0,  0, 38,  0,  1,  0,  0],\n",
       "       [ 0,  0,  0,  0,  0,  0, 34,  0,  0,  0],\n",
       "       [ 0,  0,  0,  0,  0,  0,  0, 34,  0,  1],\n",
       "       [ 0,  1,  0,  0,  0,  1,  0,  0, 32,  0],\n",
       "       [ 0,  0,  0,  0,  1,  1,  0,  0,  4, 34]], dtype=int64)"
      ]
     },
     "execution_count": 16,
     "metadata": {},
     "output_type": "execute_result"
    }
   ],
   "source": [
    "from sklearn.metrics import confusion_matrix\n",
    "cm = confusion_matrix(Y_test,Y_predicted)\n",
    "cm"
   ]
  },
  {
   "cell_type": "code",
   "execution_count": 17,
   "metadata": {},
   "outputs": [
    {
     "data": {
      "text/plain": [
       "Text(69.0, 0.5, 'Truth')"
      ]
     },
     "execution_count": 17,
     "metadata": {},
     "output_type": "execute_result"
    },
    {
     "data": {
      "image/png": "[encoded data removed]",
      "text/plain": [
       "<Figure size 720x504 with 2 Axes>"
      ]
     },
     "metadata": {
      "needs_background": "light"
     },
     "output_type": "display_data"
    }
   ],
   "source": [
    "import seaborn as sn\n",
    "plt.figure(figsize = (10,7))\n",
    "sn.heatmap(cm,annot=True)\n",
    "plt.xlabel('Predicted')\n",
    "plt.ylabel('Truth')"
   ]
  },
  {
   "cell_type": "code",
   "execution_count": null,
   "metadata": {},
   "outputs": [],
   "source": []
  }
 ],
 "metadata": {
  "kernelspec": {
   "display_name": "Python 3",
   "language": "python",
   "name": "python3"
  },
  "language_info": {
   "codemirror_mode": {
    "name": "ipython",
    "version": 3
   },
   "file_extension": ".py",
   "mimetype": "text/x-python",
   "name": "python",
   "nbconvert_exporter": "python",
   "pygments_lexer": "ipython3",
   "version": "3.8.3"
  }
 },
 "nbformat": 4,
 "nbformat_minor": 4
}
